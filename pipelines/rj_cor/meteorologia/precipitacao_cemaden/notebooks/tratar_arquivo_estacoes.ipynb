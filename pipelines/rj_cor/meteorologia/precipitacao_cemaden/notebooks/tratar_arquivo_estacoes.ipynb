{
 "cells": [
  {
   "cell_type": "markdown",
   "metadata": {},
   "source": [
    "O CEMADEN possui uma API na qual conseguimos acessar os dados dos pluviômetros em tempo real para cada uma das estações. Nessa API não vem a latitude e longitude das estações, mas que podemos obter manualmente do mapa interativo no site. Entretanto o código das estações é diferente nessas duas fontes e o tratamento para identificarmos a latlon das estações está nesse notebook. Consideramos como id_estacao o que é fornecido via API.\n",
    "\n",
    "Fontes:\n",
    "    - API: http://sjc.salvar.cemaden.gov.br/resources/graficos/interativo/getJson2.php?uf=RJ\n",
    "    - arquivo estacoes_cemaden_site.csv: foi baixado em http://www2.cemaden.gov.br/mapainterativo/ > Download de dados > estações pluviométricas"
   ]
  },
  {
   "cell_type": "code",
   "execution_count": 6,
   "metadata": {},
   "outputs": [
    {
     "data": {
      "text/html": [
       "<div>\n",
       "<style scoped>\n",
       "    .dataframe tbody tr th:only-of-type {\n",
       "        vertical-align: middle;\n",
       "    }\n",
       "\n",
       "    .dataframe tbody tr th {\n",
       "        vertical-align: top;\n",
       "    }\n",
       "\n",
       "    .dataframe thead th {\n",
       "        text-align: right;\n",
       "    }\n",
       "</style>\n",
       "<table border=\"1\" class=\"dataframe\">\n",
       "  <thead>\n",
       "    <tr style=\"text-align: right;\">\n",
       "      <th></th>\n",
       "      <th>municipio</th>\n",
       "      <th>codEstacao</th>\n",
       "      <th>uf</th>\n",
       "      <th>nomeEstacao</th>\n",
       "      <th>latitude</th>\n",
       "      <th>longitude</th>\n",
       "      <th>datahora</th>\n",
       "      <th>valorMedida</th>\n",
       "    </tr>\n",
       "  </thead>\n",
       "  <tbody>\n",
       "    <tr>\n",
       "      <th>0</th>\n",
       "      <td>RIO DE JANEIRO</td>\n",
       "      <td>330455701A</td>\n",
       "      <td>RJ</td>\n",
       "      <td>Glória</td>\n",
       "      <td>-22,915</td>\n",
       "      <td>-43,176</td>\n",
       "      <td>2023-07-01 00:20:00.0</td>\n",
       "      <td>0,00</td>\n",
       "    </tr>\n",
       "    <tr>\n",
       "      <th>1</th>\n",
       "      <td>RIO DE JANEIRO</td>\n",
       "      <td>330455701A</td>\n",
       "      <td>RJ</td>\n",
       "      <td>Glória</td>\n",
       "      <td>-22,915</td>\n",
       "      <td>-43,176</td>\n",
       "      <td>2023-07-01 00:50:00.0</td>\n",
       "      <td>0,00</td>\n",
       "    </tr>\n",
       "    <tr>\n",
       "      <th>2</th>\n",
       "      <td>RIO DE JANEIRO</td>\n",
       "      <td>330455701A</td>\n",
       "      <td>RJ</td>\n",
       "      <td>Glória</td>\n",
       "      <td>-22,915</td>\n",
       "      <td>-43,176</td>\n",
       "      <td>2023-07-01 01:50:00.0</td>\n",
       "      <td>0,00</td>\n",
       "    </tr>\n",
       "    <tr>\n",
       "      <th>3</th>\n",
       "      <td>RIO DE JANEIRO</td>\n",
       "      <td>330455701A</td>\n",
       "      <td>RJ</td>\n",
       "      <td>Glória</td>\n",
       "      <td>-22,915</td>\n",
       "      <td>-43,176</td>\n",
       "      <td>2023-07-01 02:50:00.0</td>\n",
       "      <td>0,00</td>\n",
       "    </tr>\n",
       "    <tr>\n",
       "      <th>4</th>\n",
       "      <td>RIO DE JANEIRO</td>\n",
       "      <td>330455701A</td>\n",
       "      <td>RJ</td>\n",
       "      <td>Glória</td>\n",
       "      <td>-22,915</td>\n",
       "      <td>-43,176</td>\n",
       "      <td>2023-07-01 03:50:00.0</td>\n",
       "      <td>0,00</td>\n",
       "    </tr>\n",
       "  </tbody>\n",
       "</table>\n",
       "</div>"
      ],
      "text/plain": [
       "        municipio  codEstacao  uf nomeEstacao latitude longitude  \\\n",
       "0  RIO DE JANEIRO  330455701A  RJ      Glória  -22,915   -43,176   \n",
       "1  RIO DE JANEIRO  330455701A  RJ      Glória  -22,915   -43,176   \n",
       "2  RIO DE JANEIRO  330455701A  RJ      Glória  -22,915   -43,176   \n",
       "3  RIO DE JANEIRO  330455701A  RJ      Glória  -22,915   -43,176   \n",
       "4  RIO DE JANEIRO  330455701A  RJ      Glória  -22,915   -43,176   \n",
       "\n",
       "                datahora valorMedida  \n",
       "0  2023-07-01 00:20:00.0        0,00  \n",
       "1  2023-07-01 00:50:00.0        0,00  \n",
       "2  2023-07-01 01:50:00.0        0,00  \n",
       "3  2023-07-01 02:50:00.0        0,00  \n",
       "4  2023-07-01 03:50:00.0        0,00  "
      ]
     },
     "execution_count": 6,
     "metadata": {},
     "output_type": "execute_result"
    }
   ],
   "source": [
    "import pandas as pd\n",
    "import unidecode\n",
    "\n",
    "df = pd.read_csv(\"estacoes_cemaden_site.csv\", sep=';')\n",
    "df.head()"
   ]
  },
  {
   "cell_type": "code",
   "execution_count": 7,
   "metadata": {},
   "outputs": [
    {
     "data": {
      "text/plain": [
       "(26, 4)"
      ]
     },
     "execution_count": 7,
     "metadata": {},
     "output_type": "execute_result"
    }
   ],
   "source": [
    "df = df[df['municipio'] == 'RIO DE JANEIRO'].copy()\n",
    "df = df.drop(columns=['valorMedida', 'municipio', 'uf', 'datahora']).drop_duplicates()\n",
    "df.shape"
   ]
  },
  {
   "cell_type": "code",
   "execution_count": 8,
   "metadata": {},
   "outputs": [
    {
     "data": {
      "text/html": [
       "<div>\n",
       "<style scoped>\n",
       "    .dataframe tbody tr th:only-of-type {\n",
       "        vertical-align: middle;\n",
       "    }\n",
       "\n",
       "    .dataframe tbody tr th {\n",
       "        vertical-align: top;\n",
       "    }\n",
       "\n",
       "    .dataframe thead th {\n",
       "        text-align: right;\n",
       "    }\n",
       "</style>\n",
       "<table border=\"1\" class=\"dataframe\">\n",
       "  <thead>\n",
       "    <tr style=\"text-align: right;\">\n",
       "      <th></th>\n",
       "      <th>codEstacao</th>\n",
       "      <th>nomeEstacao</th>\n",
       "      <th>latitude</th>\n",
       "      <th>longitude</th>\n",
       "    </tr>\n",
       "  </thead>\n",
       "  <tbody>\n",
       "    <tr>\n",
       "      <th>0</th>\n",
       "      <td>330455701A</td>\n",
       "      <td>Glória</td>\n",
       "      <td>-22.915</td>\n",
       "      <td>-43.176</td>\n",
       "    </tr>\n",
       "    <tr>\n",
       "      <th>776</th>\n",
       "      <td>330455704A</td>\n",
       "      <td>Praça Seca</td>\n",
       "      <td>-22.896</td>\n",
       "      <td>-43.352</td>\n",
       "    </tr>\n",
       "    <tr>\n",
       "      <th>1397</th>\n",
       "      <td>330455705A</td>\n",
       "      <td>Tanque Jacarepagua</td>\n",
       "      <td>-22.918</td>\n",
       "      <td>-43.361</td>\n",
       "    </tr>\n",
       "    <tr>\n",
       "      <th>2177</th>\n",
       "      <td>330455706A</td>\n",
       "      <td>Penha</td>\n",
       "      <td>-22.839</td>\n",
       "      <td>-43.279</td>\n",
       "    </tr>\n",
       "    <tr>\n",
       "      <th>2942</th>\n",
       "      <td>330455709A</td>\n",
       "      <td>Est. Pedra Bonita</td>\n",
       "      <td>-22.977861</td>\n",
       "      <td>-43.277444</td>\n",
       "    </tr>\n",
       "  </tbody>\n",
       "</table>\n",
       "</div>"
      ],
      "text/plain": [
       "      codEstacao         nomeEstacao    latitude   longitude\n",
       "0     330455701A              Glória     -22.915     -43.176\n",
       "776   330455704A          Praça Seca     -22.896     -43.352\n",
       "1397  330455705A  Tanque Jacarepagua     -22.918     -43.361\n",
       "2177  330455706A               Penha     -22.839     -43.279\n",
       "2942  330455709A   Est. Pedra Bonita  -22.977861  -43.277444"
      ]
     },
     "execution_count": 8,
     "metadata": {},
     "output_type": "execute_result"
    }
   ],
   "source": [
    "df[['latitude', 'longitude']] = df[['latitude', 'longitude']].apply(lambda x: x.replace({\",\": '.'}, regex=True))\n",
    "df.head()"
   ]
  },
  {
   "cell_type": "code",
   "execution_count": 9,
   "metadata": {},
   "outputs": [
    {
     "data": {
      "text/plain": [
       "array(['Glória', 'Praça Seca', 'Tanque Jacarepagua', 'Penha',\n",
       "       'Est. Pedra Bonita', 'Jardim Maravilha', 'Santa Cruz',\n",
       "       'Realengo Batan', 'Padre Miguel', 'Salgueiro', 'Andaraí',\n",
       "       'CIEP Samuel Wainer', 'Vargem Pequena', 'Jacarepaguá',\n",
       "       'CIEP Dr. João Ramos de Souza', 'São Conrado', 'Catete', 'Pavuna',\n",
       "       'Vigário Geral', 'Vicente de Carvalho', 'Alto da Boa Vista',\n",
       "       'Tijuca', 'Usina', 'Higienópolis', 'Pilares', 'Ilha de Paquetá'],\n",
       "      dtype=object)"
      ]
     },
     "execution_count": 9,
     "metadata": {},
     "output_type": "execute_result"
    }
   ],
   "source": [
    "df.rename(columns={'codEstacao':'id_estacao', \"nomeEstacao\":\"estacao\"}, inplace=True)\n",
    "df.estacao.unique()"
   ]
  },
  {
   "cell_type": "code",
   "execution_count": 15,
   "metadata": {},
   "outputs": [],
   "source": [
    "df['estacao'] = df['estacao'].str.normalize('NFKD').str.encode('ascii',errors='ignore').str.decode('utf-8').str.capitalize()"
   ]
  },
  {
   "cell_type": "markdown",
   "metadata": {},
   "source": [
    "Pegar dados direto da API"
   ]
  },
  {
   "cell_type": "code",
   "execution_count": 10,
   "metadata": {},
   "outputs": [
    {
     "data": {
      "text/html": [
       "<div>\n",
       "<style scoped>\n",
       "    .dataframe tbody tr th:only-of-type {\n",
       "        vertical-align: middle;\n",
       "    }\n",
       "\n",
       "    .dataframe tbody tr th {\n",
       "        vertical-align: top;\n",
       "    }\n",
       "\n",
       "    .dataframe thead th {\n",
       "        text-align: right;\n",
       "    }\n",
       "</style>\n",
       "<table border=\"1\" class=\"dataframe\">\n",
       "  <thead>\n",
       "    <tr style=\"text-align: right;\">\n",
       "      <th></th>\n",
       "      <th>id_estacao</th>\n",
       "      <th>estacao</th>\n",
       "    </tr>\n",
       "  </thead>\n",
       "  <tbody>\n",
       "    <tr>\n",
       "      <th>14</th>\n",
       "      <td>3044</td>\n",
       "      <td>Penha</td>\n",
       "    </tr>\n",
       "    <tr>\n",
       "      <th>16</th>\n",
       "      <td>7609</td>\n",
       "      <td>Vicente de Carvalho</td>\n",
       "    </tr>\n",
       "    <tr>\n",
       "      <th>21</th>\n",
       "      <td>7614</td>\n",
       "      <td>Pilares</td>\n",
       "    </tr>\n",
       "    <tr>\n",
       "      <th>26</th>\n",
       "      <td>7611</td>\n",
       "      <td>Tijuca</td>\n",
       "    </tr>\n",
       "    <tr>\n",
       "      <th>41</th>\n",
       "      <td>7592</td>\n",
       "      <td>Santa Cruz</td>\n",
       "    </tr>\n",
       "  </tbody>\n",
       "</table>\n",
       "</div>"
      ],
      "text/plain": [
       "    id_estacao              estacao\n",
       "14        3044                Penha\n",
       "16        7609  Vicente de Carvalho\n",
       "21        7614              Pilares\n",
       "26        7611               Tijuca\n",
       "41        7592           Santa Cruz"
      ]
     },
     "execution_count": 10,
     "metadata": {},
     "output_type": "execute_result"
    }
   ],
   "source": [
    "url = \"http://sjc.salvar.cemaden.gov.br/resources/graficos/interativo/getJson2.php?uf=RJ\"\n",
    "dados = pd.read_json(url)\n",
    "\n",
    "rename_cols = {\n",
    "    \"idestacao\": \"id_estacao\",\n",
    "     \"nomeestacao\":\"estacao\",\n",
    "}\n",
    "\n",
    "drop_cols = [\n",
    "        \"ultimovalor\",\n",
    "        \"datahoraUltimovalor\",\n",
    "        \"acc1hr\",\n",
    "        \"acc3hr\",\n",
    "        \"acc6hr\",\n",
    "        \"acc12hr\",\n",
    "        \"acc24hr\",\n",
    "        \"acc48hr\",\n",
    "        \"acc72hr\",\n",
    "        \"acc96hr\",\n",
    "        \"uf\",\n",
    "        \"codibge\",\n",
    "        \"cidade\",\n",
    "        \"tipoestacao\",\n",
    "        \"status\",\n",
    "        ]\n",
    "dados = (\n",
    "    dados[(dados[\"codibge\"] == 3304557) & (dados[\"tipoestacao\"] == 1)]\n",
    "    .drop(drop_cols, axis=1)\n",
    "    .rename(rename_cols, axis=1)\n",
    ")\n",
    "dados.head()"
   ]
  },
  {
   "cell_type": "code",
   "execution_count": 11,
   "metadata": {},
   "outputs": [],
   "source": [
    "dados['estacao'] = dados['estacao'].str.normalize('NFKD').str.encode('ascii',errors='ignore').str.decode('utf-8').str.capitalize()"
   ]
  },
  {
   "cell_type": "markdown",
   "metadata": {},
   "source": [
    "Junta dados da API com o arquivo do site para conseguir latlon das estações"
   ]
  },
  {
   "cell_type": "code",
   "execution_count": 16,
   "metadata": {},
   "outputs": [
    {
     "data": {
      "text/html": [
       "<div>\n",
       "<style scoped>\n",
       "    .dataframe tbody tr th:only-of-type {\n",
       "        vertical-align: middle;\n",
       "    }\n",
       "\n",
       "    .dataframe tbody tr th {\n",
       "        vertical-align: top;\n",
       "    }\n",
       "\n",
       "    .dataframe thead th {\n",
       "        text-align: right;\n",
       "    }\n",
       "</style>\n",
       "<table border=\"1\" class=\"dataframe\">\n",
       "  <thead>\n",
       "    <tr style=\"text-align: right;\">\n",
       "      <th></th>\n",
       "      <th>estacao</th>\n",
       "      <th>latitude</th>\n",
       "      <th>longitude</th>\n",
       "      <th>id_estacao</th>\n",
       "    </tr>\n",
       "  </thead>\n",
       "  <tbody>\n",
       "    <tr>\n",
       "      <th>0</th>\n",
       "      <td>Gloria</td>\n",
       "      <td>-22.915</td>\n",
       "      <td>-43.176</td>\n",
       "      <td>3114</td>\n",
       "    </tr>\n",
       "    <tr>\n",
       "      <th>1</th>\n",
       "      <td>Praca seca</td>\n",
       "      <td>-22.896</td>\n",
       "      <td>-43.352</td>\n",
       "      <td>3045</td>\n",
       "    </tr>\n",
       "    <tr>\n",
       "      <th>2</th>\n",
       "      <td>Tanque jacarepagua</td>\n",
       "      <td>-22.918</td>\n",
       "      <td>-43.361</td>\n",
       "      <td>3043</td>\n",
       "    </tr>\n",
       "    <tr>\n",
       "      <th>3</th>\n",
       "      <td>Penha</td>\n",
       "      <td>-22.839</td>\n",
       "      <td>-43.279</td>\n",
       "      <td>3044</td>\n",
       "    </tr>\n",
       "    <tr>\n",
       "      <th>4</th>\n",
       "      <td>Est. pedra bonita</td>\n",
       "      <td>-22.977861</td>\n",
       "      <td>-43.277444</td>\n",
       "      <td>3215</td>\n",
       "    </tr>\n",
       "  </tbody>\n",
       "</table>\n",
       "</div>"
      ],
      "text/plain": [
       "              estacao    latitude   longitude  id_estacao\n",
       "0              Gloria     -22.915     -43.176        3114\n",
       "1          Praca seca     -22.896     -43.352        3045\n",
       "2  Tanque jacarepagua     -22.918     -43.361        3043\n",
       "3               Penha     -22.839     -43.279        3044\n",
       "4   Est. pedra bonita  -22.977861  -43.277444        3215"
      ]
     },
     "execution_count": 16,
     "metadata": {},
     "output_type": "execute_result"
    }
   ],
   "source": [
    "dfr = df.drop(columns='id_estacao').merge(dados, on='estacao', how='outer')\n",
    "dfr.head()"
   ]
  },
  {
   "cell_type": "code",
   "execution_count": 17,
   "metadata": {},
   "outputs": [
    {
     "data": {
      "text/html": [
       "<div>\n",
       "<style scoped>\n",
       "    .dataframe tbody tr th:only-of-type {\n",
       "        vertical-align: middle;\n",
       "    }\n",
       "\n",
       "    .dataframe tbody tr th {\n",
       "        vertical-align: top;\n",
       "    }\n",
       "\n",
       "    .dataframe thead th {\n",
       "        text-align: right;\n",
       "    }\n",
       "</style>\n",
       "<table border=\"1\" class=\"dataframe\">\n",
       "  <thead>\n",
       "    <tr style=\"text-align: right;\">\n",
       "      <th></th>\n",
       "      <th>estacao</th>\n",
       "      <th>latitude</th>\n",
       "      <th>longitude</th>\n",
       "      <th>id_estacao</th>\n",
       "    </tr>\n",
       "  </thead>\n",
       "  <tbody>\n",
       "    <tr>\n",
       "      <th>23</th>\n",
       "      <td>Higienopolis</td>\n",
       "      <td>-22.869</td>\n",
       "      <td>-43.265</td>\n",
       "      <td>7613</td>\n",
       "    </tr>\n",
       "    <tr>\n",
       "      <th>24</th>\n",
       "      <td>Pilares</td>\n",
       "      <td>-22.875</td>\n",
       "      <td>-43.299</td>\n",
       "      <td>7614</td>\n",
       "    </tr>\n",
       "    <tr>\n",
       "      <th>25</th>\n",
       "      <td>Ilha de paqueta</td>\n",
       "      <td>-22.7613</td>\n",
       "      <td>-43.1084</td>\n",
       "      <td>7615</td>\n",
       "    </tr>\n",
       "    <tr>\n",
       "      <th>26</th>\n",
       "      <td>Defesa civil santa cruz</td>\n",
       "      <td>NaN</td>\n",
       "      <td>NaN</td>\n",
       "      <td>7607</td>\n",
       "    </tr>\n",
       "    <tr>\n",
       "      <th>27</th>\n",
       "      <td>Abolicao</td>\n",
       "      <td>NaN</td>\n",
       "      <td>NaN</td>\n",
       "      <td>3042</td>\n",
       "    </tr>\n",
       "  </tbody>\n",
       "</table>\n",
       "</div>"
      ],
      "text/plain": [
       "                    estacao  latitude longitude  id_estacao\n",
       "23             Higienopolis   -22.869   -43.265        7613\n",
       "24                  Pilares   -22.875   -43.299        7614\n",
       "25          Ilha de paqueta  -22.7613  -43.1084        7615\n",
       "26  Defesa civil santa cruz       NaN       NaN        7607\n",
       "27                 Abolicao       NaN       NaN        3042"
      ]
     },
     "execution_count": 17,
     "metadata": {},
     "output_type": "execute_result"
    }
   ],
   "source": [
    "dfr.tail()"
   ]
  },
  {
   "cell_type": "code",
   "execution_count": 18,
   "metadata": {},
   "outputs": [],
   "source": [
    "dfr.loc[dfr.estacao=='Defesa civil santa cruz', ['latitude', 'longitude']] = -22.89444, -43.67611\n",
    "# https://comiteguandu.org.br/conteudo/estacao-rede-basica-2021.pdf"
   ]
  },
  {
   "cell_type": "code",
   "execution_count": 19,
   "metadata": {},
   "outputs": [
    {
     "data": {
      "text/html": [
       "<div>\n",
       "<style scoped>\n",
       "    .dataframe tbody tr th:only-of-type {\n",
       "        vertical-align: middle;\n",
       "    }\n",
       "\n",
       "    .dataframe tbody tr th {\n",
       "        vertical-align: top;\n",
       "    }\n",
       "\n",
       "    .dataframe thead th {\n",
       "        text-align: right;\n",
       "    }\n",
       "</style>\n",
       "<table border=\"1\" class=\"dataframe\">\n",
       "  <thead>\n",
       "    <tr style=\"text-align: right;\">\n",
       "      <th></th>\n",
       "      <th>estacao</th>\n",
       "      <th>latitude</th>\n",
       "      <th>longitude</th>\n",
       "      <th>id_estacao</th>\n",
       "    </tr>\n",
       "  </thead>\n",
       "  <tbody>\n",
       "    <tr>\n",
       "      <th>23</th>\n",
       "      <td>Higienopolis</td>\n",
       "      <td>-22.869</td>\n",
       "      <td>-43.265</td>\n",
       "      <td>7613</td>\n",
       "    </tr>\n",
       "    <tr>\n",
       "      <th>24</th>\n",
       "      <td>Pilares</td>\n",
       "      <td>-22.875</td>\n",
       "      <td>-43.299</td>\n",
       "      <td>7614</td>\n",
       "    </tr>\n",
       "    <tr>\n",
       "      <th>25</th>\n",
       "      <td>Ilha de paqueta</td>\n",
       "      <td>-22.7613</td>\n",
       "      <td>-43.1084</td>\n",
       "      <td>7615</td>\n",
       "    </tr>\n",
       "    <tr>\n",
       "      <th>26</th>\n",
       "      <td>Defesa civil santa cruz</td>\n",
       "      <td>-22.89444</td>\n",
       "      <td>-43.67611</td>\n",
       "      <td>7607</td>\n",
       "    </tr>\n",
       "    <tr>\n",
       "      <th>27</th>\n",
       "      <td>Abolicao</td>\n",
       "      <td>NaN</td>\n",
       "      <td>NaN</td>\n",
       "      <td>3042</td>\n",
       "    </tr>\n",
       "  </tbody>\n",
       "</table>\n",
       "</div>"
      ],
      "text/plain": [
       "                    estacao  latitude longitude  id_estacao\n",
       "23             Higienopolis   -22.869   -43.265        7613\n",
       "24                  Pilares   -22.875   -43.299        7614\n",
       "25          Ilha de paqueta  -22.7613  -43.1084        7615\n",
       "26  Defesa civil santa cruz -22.89444 -43.67611        7607\n",
       "27                 Abolicao       NaN       NaN        3042"
      ]
     },
     "execution_count": 19,
     "metadata": {},
     "output_type": "execute_result"
    }
   ],
   "source": [
    "dfr.tail()"
   ]
  },
  {
   "cell_type": "code",
   "execution_count": 20,
   "metadata": {},
   "outputs": [],
   "source": [
    "dfr[[ 'id_estacao', 'estacao', 'latitude', 'longitude']].sort_values(\"id_estacao\").to_csv(\"estacoes_cemaden.csv\", index=False)"
   ]
  },
  {
   "cell_type": "code",
   "execution_count": null,
   "metadata": {},
   "outputs": [],
   "source": []
  }
 ],
 "metadata": {
  "kernelspec": {
   "display_name": "Python 3",
   "language": "python",
   "name": "python3"
  },
  "language_info": {
   "codemirror_mode": {
    "name": "ipython",
    "version": 3
   },
   "file_extension": ".py",
   "mimetype": "text/x-python",
   "name": "python",
   "nbconvert_exporter": "python",
   "pygments_lexer": "ipython3",
   "version": "3.9.12"
  },
  "orig_nbformat": 4
 },
 "nbformat": 4,
 "nbformat_minor": 2
}
